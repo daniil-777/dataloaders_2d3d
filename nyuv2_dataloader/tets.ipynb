{
 "cells": [
  {
   "cell_type": "code",
   "execution_count": 3,
   "source": [
    "#!/usr/bin/env python3\n",
    "\n",
    "from pathlib import Path\n",
    "from nyuv2 import *\n",
    "import numpy as np\n",
    "import matplotlib.pyplot as plt\n",
    "import open3d as o3d\n",
    "import numpy as np\n",
    "import re\n",
    "import matplotlib.image as mpimg\n",
    "import matplotlib.pyplot as plt\n",
    "# import numpy as np\n",
    "import matplotlib as mpl\n",
    "# import matplotlib.pyplot as plt\n",
    "mpl.use('tkagg')\n",
    "\n",
    "\n",
    "# DATASET_DIR = Path('dataset')\n",
    "DATASET_DIR = Path('/Volumes/Ubuntu/trace_lab/datasets')\n",
    "\n",
    "\n",
    "def plot_color(ax, color, title=\"Color\"):\n",
    "    \"\"\"Displays a color image from the NYU dataset.\"\"\"\n",
    "\n",
    "    ax.axis('off')\n",
    "    ax.set_title(title)\n",
    "    ax.imshow(color)\n",
    "\n",
    "def plot_depth(ax, depth, title=\"Depth\"):\n",
    "    \"\"\"Displays a depth map from the NYU dataset.\"\"\"\n",
    "\n",
    "    ax.axis('off')\n",
    "    ax.set_title(title)\n",
    "    ax.imshow(depth, cmap='Spectral')\n",
    "\n",
    "def test_labeled_dataset():\n",
    "    labeled = LabeledDataset(DATASET_DIR / 'nyu_depth_v2_labeled.mat')\n",
    "    # labeled = LabeledDataset('/Volumes/Ubuntu/trace_lab/datasets/nyu_depth_v2_labeled.mat')\n",
    "\n",
    "    color, depth = labeled[0]\n",
    "\n",
    "    color = np.array(color)\n",
    "    depth = np.array(depth)\n",
    "    print(\"type of color: \", type(color))\n",
    "    print(\"type of depth: \", type(depth))\n",
    "    print(\"yes!\")\n",
    "    \n",
    "    color = o3d.geometry.Image(color)\n",
    "    depth = o3d.geometry.Image(depth)\n",
    "    rgbd_image = o3d.geometry.RGBDImage.create_from_nyu_format(color, depth)\n",
    "    print(rgbd_image)\n",
    "    plt.imshow(rgbd_image.color)\n",
    "    plt.savefig(\"test.png\")\n",
    "    # plt.show()\n",
    "    # o3d.visualization.draw_geometries([rgbd_image.color])\n",
    "\n",
    "\n",
    "    # plt.subplot(1, 2, 1)\n",
    "    # plt.title('NYU grayscale image')\n",
    "    # plt.imshow(rgbd_image.color)\n",
    "    # plt.subplot(1, 2, 2)\n",
    "    # plt.title('NYU depth image')\n",
    "    # plt.imshow(rgbd_image.depth)\n",
    "    # plt.show()\n",
    "    pcd = o3d.geometry.PointCloud.create_from_rgbd_image(\n",
    "        rgbd_image,\n",
    "        o3d.camera.PinholeCameraIntrinsic(\n",
    "            o3d.camera.PinholeCameraIntrinsicParameters.PrimeSenseDefault))\n",
    "    # Flip it, otherwise the pointcloud will be upside down\n",
    "    pcd.transform([[1, 0, 0, 0], [0, -1, 0, 0], [0, 0, -1, 0], [0, 0, 0, 1]])\n",
    "    print(\"pcd: \", pcd)\n",
    "    o3d.visualization.draw_geometries([pcd])\n",
    "    # fig = plt.figure(\"Labeled Dataset Sample\", figsize=(12, 5))\n",
    "\n",
    "    # ax = fig.add_subplot(1, 2, 1)\n",
    "    # plot_color(ax, color)\n",
    "\n",
    "    # ax = fig.add_subplot(1, 2, 2)\n",
    "    # plot_depth(ax, depth)\n",
    "\n",
    "    # plt.show()\n",
    "    print(\"plot is done!\")\n",
    "    labeled.close()\n",
    "\n",
    "def test_raw_dataset():\n",
    "    # Pick the first raw dataset part we find\n",
    "    raw_archive_path = next(DATASET_DIR.glob('*.zip'))\n",
    "\n",
    "    raw_archive = RawDatasetArchive(raw_archive_path)\n",
    "    frame = raw_archive[5]\n",
    "    depth_path, color_path = Path('.') / frame[0], Path('.') / frame[1]\n",
    "\n",
    "    if not (depth_path.exists() and color_path.exists()):\n",
    "        raw_archive.extract_frame(frame)\n",
    "\n",
    "    color = load_color_image(color_path)\n",
    "    depth = load_depth_image(depth_path)\n",
    "\n",
    "    fig = plt.figure(\"Raw Dataset Sample\", figsize=(12, 5))\n",
    "\n",
    "    before_proj_overlay = color_depth_overlay(color, depth, relative=True)\n",
    "\n",
    "    ax = fig.add_subplot(1, 2, 1)\n",
    "    plot_color(ax, before_proj_overlay, \"Before Projection\")\n",
    "\n",
    "    # TODO: project depth and RGB image\n",
    "\n",
    "    plt.show()\n",
    "\n",
    "test_labeled_dataset()\n",
    "# test_raw_dataset()\n"
   ],
   "outputs": [
    {
     "output_type": "error",
     "ename": "ModuleNotFoundError",
     "evalue": "No module named 'h5py'",
     "traceback": [
      "\u001b[0;31m---------------------------------------------------------------------------\u001b[0m",
      "\u001b[0;31mModuleNotFoundError\u001b[0m                       Traceback (most recent call last)",
      "\u001b[0;32m/var/folders/sc/1vy9jnq53k306g_zr9txyfkc0000gn/T/ipykernel_8613/219022185.py\u001b[0m in \u001b[0;36m<module>\u001b[0;34m\u001b[0m\n\u001b[1;32m      2\u001b[0m \u001b[0;34m\u001b[0m\u001b[0m\n\u001b[1;32m      3\u001b[0m \u001b[0;32mfrom\u001b[0m \u001b[0mpathlib\u001b[0m \u001b[0;32mimport\u001b[0m \u001b[0mPath\u001b[0m\u001b[0;34m\u001b[0m\u001b[0;34m\u001b[0m\u001b[0m\n\u001b[0;32m----> 4\u001b[0;31m \u001b[0;32mfrom\u001b[0m \u001b[0mnyuv2\u001b[0m \u001b[0;32mimport\u001b[0m \u001b[0;34m*\u001b[0m\u001b[0;34m\u001b[0m\u001b[0;34m\u001b[0m\u001b[0m\n\u001b[0m\u001b[1;32m      5\u001b[0m \u001b[0;32mimport\u001b[0m \u001b[0mnumpy\u001b[0m \u001b[0;32mas\u001b[0m \u001b[0mnp\u001b[0m\u001b[0;34m\u001b[0m\u001b[0;34m\u001b[0m\u001b[0m\n\u001b[1;32m      6\u001b[0m \u001b[0;32mimport\u001b[0m \u001b[0mmatplotlib\u001b[0m\u001b[0;34m.\u001b[0m\u001b[0mpyplot\u001b[0m \u001b[0;32mas\u001b[0m \u001b[0mplt\u001b[0m\u001b[0;34m\u001b[0m\u001b[0;34m\u001b[0m\u001b[0m\n",
      "\u001b[0;32m~/ETH/trace_lab/code_scripts/nyuv2-python-toolbox/nyuv2/__init__.py\u001b[0m in \u001b[0;36m<module>\u001b[0;34m\u001b[0m\n\u001b[0;32m----> 1\u001b[0;31m \u001b[0;32mfrom\u001b[0m \u001b[0;34m.\u001b[0m\u001b[0mlabeled\u001b[0m \u001b[0;32mimport\u001b[0m \u001b[0mLabeledDataset\u001b[0m\u001b[0;34m\u001b[0m\u001b[0;34m\u001b[0m\u001b[0m\n\u001b[0m\u001b[1;32m      2\u001b[0m \u001b[0;32mfrom\u001b[0m \u001b[0;34m.\u001b[0m\u001b[0mraw\u001b[0m\u001b[0;34m.\u001b[0m\u001b[0mextract\u001b[0m \u001b[0;32mimport\u001b[0m \u001b[0mRawDatasetArchive\u001b[0m\u001b[0;34m\u001b[0m\u001b[0;34m\u001b[0m\u001b[0m\n\u001b[1;32m      3\u001b[0m \u001b[0;32mfrom\u001b[0m \u001b[0;34m.\u001b[0m\u001b[0mraw\u001b[0m\u001b[0;34m.\u001b[0m\u001b[0mload\u001b[0m \u001b[0;32mimport\u001b[0m \u001b[0mload_depth_image\u001b[0m\u001b[0;34m,\u001b[0m \u001b[0mload_color_image\u001b[0m\u001b[0;34m\u001b[0m\u001b[0;34m\u001b[0m\u001b[0m\n\u001b[1;32m      4\u001b[0m \u001b[0;32mfrom\u001b[0m \u001b[0;34m.\u001b[0m\u001b[0moverlay\u001b[0m \u001b[0;32mimport\u001b[0m \u001b[0mcolor_depth_overlay\u001b[0m\u001b[0;34m\u001b[0m\u001b[0;34m\u001b[0m\u001b[0m\n\u001b[1;32m      5\u001b[0m \u001b[0;32mfrom\u001b[0m \u001b[0;34m.\u001b[0m \u001b[0;32mimport\u001b[0m \u001b[0maugment\u001b[0m\u001b[0;34m\u001b[0m\u001b[0;34m\u001b[0m\u001b[0m\n",
      "\u001b[0;32m~/ETH/trace_lab/code_scripts/nyuv2-python-toolbox/nyuv2/labeled.py\u001b[0m in \u001b[0;36m<module>\u001b[0;34m\u001b[0m\n\u001b[0;32m----> 1\u001b[0;31m \u001b[0;32mimport\u001b[0m \u001b[0mh5py\u001b[0m\u001b[0;34m\u001b[0m\u001b[0;34m\u001b[0m\u001b[0m\n\u001b[0m\u001b[1;32m      2\u001b[0m \u001b[0;32mimport\u001b[0m \u001b[0mnumpy\u001b[0m \u001b[0;32mas\u001b[0m \u001b[0mnp\u001b[0m\u001b[0;34m\u001b[0m\u001b[0;34m\u001b[0m\u001b[0m\n\u001b[1;32m      3\u001b[0m \u001b[0;32mfrom\u001b[0m \u001b[0mPIL\u001b[0m \u001b[0;32mimport\u001b[0m \u001b[0mImage\u001b[0m\u001b[0;34m\u001b[0m\u001b[0;34m\u001b[0m\u001b[0m\n\u001b[1;32m      4\u001b[0m \u001b[0;34m\u001b[0m\u001b[0m\n\u001b[1;32m      5\u001b[0m \u001b[0;32mdef\u001b[0m \u001b[0mrotate_image\u001b[0m\u001b[0;34m(\u001b[0m\u001b[0mimage\u001b[0m\u001b[0;34m)\u001b[0m\u001b[0;34m:\u001b[0m\u001b[0;34m\u001b[0m\u001b[0;34m\u001b[0m\u001b[0m\n",
      "\u001b[0;31mModuleNotFoundError\u001b[0m: No module named 'h5py'"
     ]
    }
   ],
   "metadata": {}
  },
  {
   "cell_type": "code",
   "execution_count": 2,
   "source": [
    "!pip install h5py"
   ],
   "outputs": [
    {
     "output_type": "stream",
     "name": "stdout",
     "text": [
      "Requirement already satisfied: h5py in /Users/daniil/opt/anaconda3/lib/python3.7/site-packages (2.10.0)\n",
      "Requirement already satisfied: six in /Users/daniil/opt/anaconda3/lib/python3.7/site-packages (from h5py) (1.14.0)\n",
      "Requirement already satisfied: numpy>=1.7 in /Users/daniil/opt/anaconda3/lib/python3.7/site-packages (from h5py) (1.18.1)\n",
      "\u001b[33mWARNING: You are using pip version 20.0.2; however, version 21.2.4 is available.\n",
      "You should consider upgrading via the '/Users/daniil/opt/anaconda3/bin/python -m pip install --upgrade pip' command.\u001b[0m\n"
     ]
    }
   ],
   "metadata": {}
  },
  {
   "cell_type": "code",
   "execution_count": null,
   "source": [],
   "outputs": [],
   "metadata": {}
  }
 ],
 "metadata": {
  "orig_nbformat": 4,
  "language_info": {
   "name": "python",
   "version": "3.9.1",
   "mimetype": "text/x-python",
   "codemirror_mode": {
    "name": "ipython",
    "version": 3
   },
   "pygments_lexer": "ipython3",
   "nbconvert_exporter": "python",
   "file_extension": ".py"
  },
  "kernelspec": {
   "name": "python3",
   "display_name": "Python 3.9.1 64-bit"
  },
  "interpreter": {
   "hash": "aee8b7b246df8f9039afb4144a1f6fd8d2ca17a180786b69acc140d282b71a49"
  }
 },
 "nbformat": 4,
 "nbformat_minor": 2
}